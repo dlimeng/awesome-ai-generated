{
 "cells": [
  {
   "cell_type": "code",
   "execution_count": 3,
   "id": "9278f957",
   "metadata": {},
   "outputs": [],
   "source": [
    "import os\n",
    "from langchain.embeddings.openai import OpenAIEmbeddings\n",
    "from langchain.vectorstores import Chroma\n",
    "from langchain.document_loaders import TextLoader\n",
    "from langchain.chains.question_answering import load_qa_chain\n",
    "from langchain.chat_models import ChatOpenAI\n",
    "from langchain.prompts import PromptTemplate\n",
    "\n",
    "# os.environ[\"OPENAI_API_KEY\"] = \"{your-api-key}\"\n",
    "\n",
    "global retriever\n",
    "def load_embedding():\n",
    "    global retriever\n",
    "    # 使用OpenAI Embedding\n",
    "    embedding = OpenAIEmbeddings()\n",
    "    # 指定了persist_directory, 所以在本地会有db文件夹，保存持久化结果\n",
    "    vectordb = Chroma(persist_directory='db', embedding_function=embedding)\n",
    "    # 检索Top4\n",
    "    retriever = vectordb.as_retriever(search_kwargs={\"k\": 4})\n",
    "\n",
    "# 基于query进行问答\n",
    "def prompt(query):\n",
    "    prompt_template = \"\"\"\n",
    "    请注意：请谨慎评估query与提示的Context信息的相关性，\n",
    "    只根据本段输入文字信息的内容进行回答，如果query与提供的材料无关，请回答\"我不知道\"，\n",
    "    另外也不要回答无关答案：\n",
    "    Context: {context}\n",
    "    Question: {question}\n",
    "    Answer:\"\"\"\n",
    "    PROMPT = PromptTemplate(\n",
    "        input_variables=[\"context\", \"question\"],\n",
    "        template=prompt_template\n",
    "    )\n",
    "    # 从向量数据库中，检索出Top5相似文档\n",
    "    docs = retriever.get_relevant_documents(query)\n",
    "    print('docs=', docs)\n",
    "    print('len(docs)=', len(docs))\n",
    "    \n",
    "    # 基于docs来prompt，返回你想要的内容\n",
    "    chain = load_qa_chain(ChatOpenAI(temperature=0), chain_type=\"stuff\", prompt=PROMPT)\n",
    "    result = chain({\"input_documents\": docs, \"question\": query}, return_only_outputs=True)\n",
    "    return result['output_text']"
   ]
  },
  {
   "cell_type": "code",
   "execution_count": 4,
   "id": "492b54cc",
   "metadata": {},
   "outputs": [
    {
     "name": "stdout",
     "output_type": "stream",
     "text": [
      "hhhhh\n",
      "docs= [Document(page_content='昭然垂万古，不止冠三分。”又有诗曰：“人杰惟追古解良，士民争拜汉云长。桃园一日兄和弟，俎豆千秋帝与王。气挟风雷无匹敌，志垂日月有光芒。 至今庙貌盈天下，古木寒鸦几夕阳。” 关公既殁，坐下赤兔马被马忠所获，献与孙权。权即赐马忠骑坐。其马数日不食草料而死。 却说王甫在麦城中，骨颤肉惊，乃问周仓曰： “昨夜梦见主公浑身血污，立于前；急问之，忽然惊觉。不知主何吉凶？ ”正说间，忽报吴兵在城下，将关公父子首级招安。王甫、周仓大惊，急登城视之，果关公父子首级也。王甫大叫一声，堕城而死。周仓自刎而亡。于是麦城亦属东吴。 却说关公一魂不散，荡荡悠悠，直至一处，乃荆门州当阳县一座山，名为玉泉山。', metadata={'source': '三国演义.pdf'}), Document(page_content='昭然垂万古，不止冠三分。”又有诗曰：“人杰惟追古解良，士民争拜汉云长。桃园一日兄和弟，俎豆千秋帝与王。气挟风雷无匹敌，志垂日月有光芒。 至今庙貌盈天下，古木寒鸦几夕阳。” 关公既殁，坐下赤兔马被马忠所获，献与孙权。权即赐马忠骑坐。其马数日不食草料而死。 却说王甫在麦城中，骨颤肉惊，乃问周仓曰： “昨夜梦见主公浑身血污，立于前；急问之，忽然惊觉。不知主何吉凶？ ”正说间，忽报吴兵在城下，将关公父子首级招安。王甫、周仓大惊，急登城视之，果关公父子首级也。王甫大叫一声，堕城而死。周仓自刎而亡。于是麦城亦属东吴。 却说关公一魂不散，荡荡悠悠，直至一处，乃荆门州当阳县一座山，名为玉泉山。', metadata={'source': '三国演义.pdf'}), Document(page_content='吾与刘皇叔桃园结义，誓扶汉室，岂与汝叛汉之贼为伍耶！我今误中奸计，有死而已，何必多言！ ”权回顾众官曰： “云长世之豪杰，孤深爱之。今欲以礼相待，劝使归降，何如？”主簿左咸曰： “不可。昔曹操得此 人时，封侯赐爵，三日一小宴，五日一大宴，上马一提金，下马一提银：如此恩礼，毕竟留之不住，听其斩关杀将而去，致使今日反为所逼，几欲迁都以避其锋。今 主公既已擒之，若不即除，恐贻后患。”孙权沉吟半晌，曰：“斯言是也。”遂命推出。于是关公父子皆遇害。时建安二十四年冬十二月也。关公亡年五十八岁。后人有诗叹曰：“汉末才无敌，云长独出群：神威能奋武，儒雅更知文。天日心如镜， 《春秋》义薄云。', metadata={'source': '三国演义.pdf'}), Document(page_content='吾与刘皇叔桃园结义，誓扶汉室，岂与汝叛汉之贼为伍耶！我今误中奸计，有死而已，何必多言！ ”权回顾众官曰： “云长世之豪杰，孤深爱之。今欲以礼相待，劝使归降，何如？”主簿左咸曰： “不可。昔曹操得此 人时，封侯赐爵，三日一小宴，五日一大宴，上马一提金，下马一提银：如此恩礼，毕竟留之不住，听其斩关杀将而去，致使今日反为所逼，几欲迁都以避其锋。今 主公既已擒之，若不即除，恐贻后患。”孙权沉吟半晌，曰：“斯言是也。”遂命推出。于是关公父子皆遇害。时建安二十四年冬十二月也。关公亡年五十八岁。后人有诗叹曰：“汉末才无敌，云长独出群：神威能奋武，儒雅更知文。天日心如镜， 《春秋》义薄云。', metadata={'source': '三国演义.pdf'})]\n",
      "len(docs)= 4\n",
      "Query:桃园三结义都有谁\n",
      "Answer:刘备、关羽、张飞。\n",
      "\n"
     ]
    }
   ],
   "source": [
    "# 加载embedding\n",
    "load_embedding()\n",
    "print('hhhhh')\n",
    "query = \"桃园三结义都有谁\"\n",
    "#query = \"曹操都有哪些部将\"\n",
    "\n",
    "print(\"Query:\" + query + '\\nAnswer:' + prompt(query) + '\\n')"
   ]
  }
 ],
 "metadata": {
  "kernelspec": {
   "display_name": "Python 3 (ipykernel)",
   "language": "python",
   "name": "python3"
  },
  "language_info": {
   "codemirror_mode": {
    "name": "ipython",
    "version": 3
   },
   "file_extension": ".py",
   "mimetype": "text/x-python",
   "name": "python",
   "nbconvert_exporter": "python",
   "pygments_lexer": "ipython3",
   "version": "3.11.2"
  }
 },
 "nbformat": 4,
 "nbformat_minor": 5
}
