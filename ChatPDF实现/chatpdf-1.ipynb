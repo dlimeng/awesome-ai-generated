{
 "cells": [
  {
   "cell_type": "code",
   "execution_count": 1,
   "id": "a0382419",
   "metadata": {},
   "outputs": [
    {
     "name": "stderr",
     "output_type": "stream",
     "text": [
      "Number of requested results 4 is greater than number of elements in index 1, updating n_results = 1\n"
     ]
    },
    {
     "name": "stdout",
     "output_type": "stream",
     "text": [
      " 刘备、关羽、张飞\n"
     ]
    }
   ],
   "source": [
    "from langchain.document_loaders import PyPDFLoader\n",
    "from langchain.vectorstores import Chroma\n",
    "from langchain.embeddings.openai import OpenAIEmbeddings\n",
    "from langchain.document_loaders import UnstructuredPDFLoader\n",
    "from langchain.llms import OpenAI\n",
    "from langchain.chains.question_answering import load_qa_chain\n",
    "\n",
    "# 读取本地知识\n",
    "loader = UnstructuredPDFLoader(\"三国演义第一回.pdf\")\n",
    "pages = loader.load_and_split()\n",
    "embeddings = OpenAIEmbeddings()\n",
    "docsearch = Chroma.from_documents(pages, embeddings).as_retriever()\n",
    "\n",
    "query = \"桃园三结义都有谁\"\n",
    "docs = docsearch.get_relevant_documents(query)\n",
    "chain = load_qa_chain(OpenAI(temperature=0), chain_type=\"stuff\")\n",
    "output = chain.run(input_documents=docs, question=query)\n",
    "print(output)"
   ]
  }
 ],
 "metadata": {
  "kernelspec": {
   "display_name": "Python 3 (ipykernel)",
   "language": "python",
   "name": "python3"
  },
  "language_info": {
   "codemirror_mode": {
    "name": "ipython",
    "version": 3
   },
   "file_extension": ".py",
   "mimetype": "text/x-python",
   "name": "python",
   "nbconvert_exporter": "python",
   "pygments_lexer": "ipython3",
   "version": "3.11.2"
  }
 },
 "nbformat": 4,
 "nbformat_minor": 5
}
